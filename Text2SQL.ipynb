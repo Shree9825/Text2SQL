{
  "cells": [
    {
      "cell_type": "code",
      "execution_count": null,
      "metadata": {
        "colab": {
          "base_uri": "https://localhost:8080/"
        },
        "id": "KieEN8_lxham",
        "outputId": "4f2a1a38-bb8d-45bb-d407-a3fb441ef9e1"
      },
      "outputs": [
        {
          "name": "stdout",
          "output_type": "stream",
          "text": [
            "/bin/bash: nvidia-sm1: command not found\n"
          ]
        }
      ],
      "source": [
        "!nvidia-sm1"
      ]
    },
    {
      "cell_type": "code",
      "execution_count": null,
      "metadata": {
        "id": "wr4n2DJ-xynW"
      },
      "outputs": [],
      "source": [
        "!pip install --quiet transformers==4.1.1\n",
        "!pip install --quiet pytorch-lightning==1.1.3\n",
        "!pip install --quiet tokenizers==0.9.4\n"
      ]
    },
    {
      "cell_type": "code",
      "execution_count": null,
      "metadata": {
        "id": "Lk1SRzwT8T90"
      },
      "outputs": [],
      "source": [
        "pip install datasets"
      ]
    },
    {
      "cell_type": "code",
      "execution_count": null,
      "metadata": {
        "id": "fK_k4wO1yLUZ"
      },
      "outputs": [],
      "source": [
        "from transformers import AutoModelWithLMHead, AutoTokenizer"
      ]
    },
    {
      "cell_type": "code",
      "execution_count": null,
      "metadata": {
        "id": "85tbEhnX69Yn"
      },
      "outputs": [],
      "source": [
        "from datasets import load_dataset\n"
      ]
    },
    {
      "cell_type": "code",
      "execution_count": null,
      "metadata": {
        "id": "4ZxTGNOs-B7U"
      },
      "outputs": [],
      "source": [
        "!pip install sentencepiece"
      ]
    },
    {
      "cell_type": "code",
      "execution_count": null,
      "metadata": {
        "id": "NLgwqbwo7HYR"
      },
      "outputs": [],
      "source": [
        "model_name=\"mrm8488/t5-base-finetuned-wikiSQL\"\n",
        "tokenizer =AutoTokenizer.from_pretrained(model_name)"
      ]
    },
    {
      "cell_type": "code",
      "execution_count": null,
      "metadata": {
        "id": "vFzegLuq8v-K"
      },
      "outputs": [],
      "source": [
        "model = AutoModelWithLMHead.from_pretrained(model_name)"
      ]
    },
    {
      "cell_type": "code",
      "execution_count": null,
      "metadata": {
        "id": "4_4wY2HZAnrQ"
      },
      "outputs": [],
      "source": [
        "def get_sql(query):\n",
        "    \n",
        "    input_text = \"translate English to SQL: %s </s>\" % query\n",
        "    \n",
        "    features = tokenizer([input_text], return_tensors='pt')\n",
        "\n",
        "    output = model.generate(input_ids=features['input_ids'], \n",
        "               attention_mask=features['attention_mask'])\n",
        "\n",
        "    return tokenizer.decode(output[0])"
      ]
    },
    {
      "cell_type": "code",
      "execution_count": null,
      "metadata": {
        "id": "MPgRZOSyBT3j"
      },
      "outputs": [],
      "source": [
        "valid_dataset = load_dataset('wikisql', split='validation')"
      ]
    },
    {
      "cell_type": "code",
      "execution_count": null,
      "metadata": {
        "id": "8LrNdXR4BZlb"
      },
      "outputs": [],
      "source": [
        "valid_dataset[0]"
      ]
    },
    {
      "cell_type": "code",
      "execution_count": null,
      "metadata": {
        "id": "DFgtvd1PGVxg"
      },
      "outputs": [],
      "source": [
        "text = \"number of employees older than 25\"\n",
        "query1=get_sql(text)\n",
        "print(query1)"
      ]
    },
    {
      "cell_type": "code",
      "execution_count": null,
      "metadata": {
        "colab": {
          "background_save": true
        },
        "id": "pNPg4ANXBfj0"
      },
      "outputs": [],
      "source": [
        "import random\n",
        "for idx in random.sample(range(len(valid_dataset)), 250):\n",
        "    print(f\"Text: {valid_dataset[idx]['question']}\")\n",
        "    print(f\"Pred SQL: {get_sql(valid_dataset[idx]['question'])}\")\n",
        "    print(f\"True SQL: {valid_dataset[idx]['sql']['human_readable']}\\n\")"
      ]
    },
    {
      "cell_type": "code",
      "execution_count": null,
      "metadata": {
        "colab": {
          "background_save": true
        },
        "id": "Pe9xgHIcD6KE"
      },
      "outputs": [],
      "source": [
        "model.train_model()"
      ]
    },
    {
      "cell_type": "code",
      "execution_count": null,
      "metadata": {
        "id": "st0H-qYip4hT"
      },
      "outputs": [],
      "source": []
    }
  ],
  "metadata": {
    "accelerator": "GPU",
    "colab": {
      "provenance": []
    },
    "gpuClass": "standard",
    "kernelspec": {
      "display_name": "Python 3",
      "name": "python3"
    },
    "language_info": {
      "name": "python"
    }
  },
  "nbformat": 4,
  "nbformat_minor": 0
}